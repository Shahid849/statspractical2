{
 "cells": [
  {
   "cell_type": "code",
   "execution_count": 5,
   "id": "99e606f5",
   "metadata": {},
   "outputs": [],
   "source": [
    "data=[23,24,32,45,12,43,67,45,32,56,32]\n"
   ]
  },
  {
   "cell_type": "code",
   "execution_count": 6,
   "id": "072ae9e2",
   "metadata": {},
   "outputs": [
    {
     "data": {
      "text/plain": [
       "[23, 24, 32, 45, 12, 43, 67, 45, 32, 56, 32]"
      ]
     },
     "execution_count": 6,
     "metadata": {},
     "output_type": "execute_result"
    }
   ],
   "source": [
    "data\n"
   ]
  },
  {
   "cell_type": "code",
   "execution_count": 11,
   "id": "32b7895b",
   "metadata": {},
   "outputs": [],
   "source": [
    "data_copy=data.copy()"
   ]
  },
  {
   "cell_type": "code",
   "execution_count": 12,
   "id": "7fc23c49",
   "metadata": {},
   "outputs": [
    {
     "data": {
      "text/plain": [
       "[23, 24, 32, 45, 12, 43, 67, 45, 32, 56, 32]"
      ]
     },
     "execution_count": 12,
     "metadata": {},
     "output_type": "execute_result"
    }
   ],
   "source": [
    "data_copy"
   ]
  },
  {
   "cell_type": "code",
   "execution_count": 16,
   "id": "d48dfc00",
   "metadata": {},
   "outputs": [
    {
     "data": {
      "text/plain": [
       "<AxesSubplot:ylabel='Count'>"
      ]
     },
     "execution_count": 16,
     "metadata": {},
     "output_type": "execute_result"
    },
    {
     "data": {
      "image/png": "[encoded data removed]",
      "text/plain": [
       "<Figure size 432x288 with 1 Axes>"
      ]
     },
     "metadata": {
      "needs_background": "light"
     },
     "output_type": "display_data"
    }
   ],
   "source": [
    "import seaborn as sns\n",
    "sns.histplot(data_copy,kde=True)"
   ]
  },
  {
   "cell_type": "code",
   "execution_count": 18,
   "id": "1cf93beb",
   "metadata": {},
   "outputs": [],
   "source": [
    "data_copy.sort()"
   ]
  },
  {
   "cell_type": "code",
   "execution_count": 20,
   "id": "e8f69e85",
   "metadata": {},
   "outputs": [
    {
     "data": {
      "text/plain": [
       "[12, 23, 24, 32, 32, 32, 43, 45, 45, 56, 67]"
      ]
     },
     "execution_count": 20,
     "metadata": {},
     "output_type": "execute_result"
    }
   ],
   "source": [
    "data_copy"
   ]
  },
  {
   "cell_type": "code",
   "execution_count": 22,
   "id": "48bb404f",
   "metadata": {},
   "outputs": [],
   "source": [
    "data_copy.append(179)"
   ]
  },
  {
   "cell_type": "code",
   "execution_count": 24,
   "id": "46823f00",
   "metadata": {},
   "outputs": [],
   "source": [
    "data_copy.append(210)"
   ]
  },
  {
   "cell_type": "code",
   "execution_count": 25,
   "id": "b9abc7da",
   "metadata": {},
   "outputs": [],
   "source": [
    "data_copy.append(290)"
   ]
  },
  {
   "cell_type": "code",
   "execution_count": 27,
   "id": "b04ef0a6",
   "metadata": {},
   "outputs": [
    {
     "data": {
      "text/plain": [
       "[12, 23, 24, 32, 32, 32, 43, 45, 45, 56, 67, 179, 179, 210, 210, 290]"
      ]
     },
     "execution_count": 27,
     "metadata": {},
     "output_type": "execute_result"
    }
   ],
   "source": [
    "data_copy"
   ]
  },
  {
   "cell_type": "code",
   "execution_count": 30,
   "id": "ed270a95",
   "metadata": {},
   "outputs": [
    {
     "data": {
      "text/plain": [
       "179"
      ]
     },
     "execution_count": 30,
     "metadata": {},
     "output_type": "execute_result"
    }
   ],
   "source": [
    "data_copy.pop(11)"
   ]
  },
  {
   "cell_type": "code",
   "execution_count": 32,
   "id": "51704f09",
   "metadata": {},
   "outputs": [
    {
     "data": {
      "text/plain": [
       "210"
      ]
     },
     "execution_count": 32,
     "metadata": {},
     "output_type": "execute_result"
    }
   ],
   "source": [
    "data_copy.pop(12)"
   ]
  },
  {
   "cell_type": "code",
   "execution_count": 33,
   "id": "f4182ea1",
   "metadata": {},
   "outputs": [
    {
     "data": {
      "text/plain": [
       "[12, 23, 24, 32, 32, 32, 43, 45, 45, 56, 67, 179, 290]"
      ]
     },
     "execution_count": 33,
     "metadata": {},
     "output_type": "execute_result"
    }
   ],
   "source": [
    "data_copy"
   ]
  },
  {
   "cell_type": "code",
   "execution_count": 35,
   "id": "830384d5",
   "metadata": {},
   "outputs": [
    {
     "data": {
      "text/plain": [
       "<AxesSubplot:ylabel='Count'>"
      ]
     },
     "execution_count": 35,
     "metadata": {},
     "output_type": "execute_result"
    },
    {
     "data": {
      "image/png": "[encoded data removed]",
      "text/plain": [
       "<Figure size 432x288 with 1 Axes>"
      ]
     },
     "metadata": {
      "needs_background": "light"
     },
     "output_type": "display_data"
    }
   ],
   "source": [
    "sns.histplot(data_copy,kde=True) "
   ]
  },
  {
   "cell_type": "code",
   "execution_count": 36,
   "id": "310214ca",
   "metadata": {},
   "outputs": [
    {
     "data": {
      "text/plain": [
       "[23, 24, 32, 45, 12, 43, 67, 45, 32, 56, 32]"
      ]
     },
     "execution_count": 36,
     "metadata": {},
     "output_type": "execute_result"
    }
   ],
   "source": [
    "data # this is the raw data"
   ]
  },
  {
   "cell_type": "code",
   "execution_count": 37,
   "id": "6ea329bd",
   "metadata": {},
   "outputs": [
    {
     "data": {
      "text/plain": [
       "[12, 23, 24, 32, 32, 32, 43, 45, 45, 56, 67, 179, 290]"
      ]
     },
     "execution_count": 37,
     "metadata": {},
     "output_type": "execute_result"
    }
   ],
   "source": [
    "data_copy # This is the right skewed data"
   ]
  },
  {
   "cell_type": "code",
   "execution_count": 38,
   "id": "3bb20211",
   "metadata": {},
   "outputs": [],
   "source": [
    "# This is the left skewed data\n",
    "datacopy2=data.copy()"
   ]
  },
  {
   "cell_type": "code",
   "execution_count": 40,
   "id": "e7846112",
   "metadata": {},
   "outputs": [
    {
     "data": {
      "text/plain": [
       "[23, 24, 32, 45, 12, 43, 67, 45, 32, 56, 32]"
      ]
     },
     "execution_count": 40,
     "metadata": {},
     "output_type": "execute_result"
    }
   ],
   "source": [
    "datacopy2"
   ]
  },
  {
   "cell_type": "code",
   "execution_count": 42,
   "id": "31fd2326",
   "metadata": {},
   "outputs": [],
   "source": [
    "datacopy2.insert(0,-10)"
   ]
  },
  {
   "cell_type": "code",
   "execution_count": 43,
   "id": "4d2e2459",
   "metadata": {},
   "outputs": [],
   "source": [
    "datacopy2.insert(0,-75)"
   ]
  },
  {
   "cell_type": "code",
   "execution_count": 44,
   "id": "98a3b66f",
   "metadata": {},
   "outputs": [
    {
     "data": {
      "text/plain": [
       "[-75, -10, -10, 23, 24, 32, 45, 12, 43, 67, 45, 32, 56, 32]"
      ]
     },
     "execution_count": 44,
     "metadata": {},
     "output_type": "execute_result"
    }
   ],
   "source": [
    "datacopy2"
   ]
  },
  {
   "cell_type": "code",
   "execution_count": 46,
   "id": "56d67e44",
   "metadata": {},
   "outputs": [
    {
     "data": {
      "text/plain": [
       "-10"
      ]
     },
     "execution_count": 46,
     "metadata": {},
     "output_type": "execute_result"
    }
   ],
   "source": [
    "datacopy2.pop(1)"
   ]
  },
  {
   "cell_type": "code",
   "execution_count": 47,
   "id": "6135404b",
   "metadata": {},
   "outputs": [
    {
     "data": {
      "text/plain": [
       "[-75, -10, 23, 24, 32, 45, 12, 43, 67, 45, 32, 56, 32]"
      ]
     },
     "execution_count": 47,
     "metadata": {},
     "output_type": "execute_result"
    }
   ],
   "source": [
    "datacopy2"
   ]
  },
  {
   "cell_type": "code",
   "execution_count": 48,
   "id": "64d607b5",
   "metadata": {},
   "outputs": [
    {
     "data": {
      "text/plain": [
       "<AxesSubplot:ylabel='Count'>"
      ]
     },
     "execution_count": 48,
     "metadata": {},
     "output_type": "execute_result"
    },
    {
     "data": {
      "image/png": "[encoded data removed]",
      "text/plain": [
       "<Figure size 432x288 with 1 Axes>"
      ]
     },
     "metadata": {
      "needs_background": "light"
     },
     "output_type": "display_data"
    }
   ],
   "source": [
    "sns.histplot(datacopy2,kde=True)"
   ]
  },
  {
   "cell_type": "code",
   "execution_count": 50,
   "id": "9db3a05e",
   "metadata": {},
   "outputs": [],
   "source": [
    "import pandas as pd\n",
    "data2=pd.read_csv(\"iris.csv\")"
   ]
  },
  {
   "cell_type": "code",
   "execution_count": 52,
   "id": "e91313ab",
   "metadata": {},
   "outputs": [
    {
     "data": {
      "text/html": [
       "<div>\n",
       "<style scoped>\n",
       "    .dataframe tbody tr th:only-of-type {\n",
       "        vertical-align: middle;\n",
       "    }\n",
       "\n",
       "    .dataframe tbody tr th {\n",
       "        vertical-align: top;\n",
       "    }\n",
       "\n",
       "    .dataframe thead th {\n",
       "        text-align: right;\n",
       "    }\n",
       "</style>\n",
       "<table border=\"1\" class=\"dataframe\">\n",
       "  <thead>\n",
       "    <tr style=\"text-align: right;\">\n",
       "      <th></th>\n",
       "      <th>sepal_length</th>\n",
       "      <th>sepal_width</th>\n",
       "      <th>petal_length</th>\n",
       "      <th>petal_width</th>\n",
       "      <th>species</th>\n",
       "    </tr>\n",
       "  </thead>\n",
       "  <tbody>\n",
       "    <tr>\n",
       "      <th>0</th>\n",
       "      <td>5.1</td>\n",
       "      <td>3.5</td>\n",
       "      <td>1.4</td>\n",
       "      <td>0.2</td>\n",
       "      <td>setosa</td>\n",
       "    </tr>\n",
       "    <tr>\n",
       "      <th>1</th>\n",
       "      <td>4.9</td>\n",
       "      <td>3.0</td>\n",
       "      <td>1.4</td>\n",
       "      <td>0.2</td>\n",
       "      <td>setosa</td>\n",
       "    </tr>\n",
       "    <tr>\n",
       "      <th>2</th>\n",
       "      <td>4.7</td>\n",
       "      <td>3.2</td>\n",
       "      <td>1.3</td>\n",
       "      <td>0.2</td>\n",
       "      <td>setosa</td>\n",
       "    </tr>\n",
       "    <tr>\n",
       "      <th>3</th>\n",
       "      <td>4.6</td>\n",
       "      <td>3.1</td>\n",
       "      <td>1.5</td>\n",
       "      <td>0.2</td>\n",
       "      <td>setosa</td>\n",
       "    </tr>\n",
       "    <tr>\n",
       "      <th>4</th>\n",
       "      <td>5.0</td>\n",
       "      <td>3.6</td>\n",
       "      <td>1.4</td>\n",
       "      <td>0.2</td>\n",
       "      <td>setosa</td>\n",
       "    </tr>\n",
       "    <tr>\n",
       "      <th>...</th>\n",
       "      <td>...</td>\n",
       "      <td>...</td>\n",
       "      <td>...</td>\n",
       "      <td>...</td>\n",
       "      <td>...</td>\n",
       "    </tr>\n",
       "    <tr>\n",
       "      <th>145</th>\n",
       "      <td>6.7</td>\n",
       "      <td>3.0</td>\n",
       "      <td>5.2</td>\n",
       "      <td>2.3</td>\n",
       "      <td>virginica</td>\n",
       "    </tr>\n",
       "    <tr>\n",
       "      <th>146</th>\n",
       "      <td>6.3</td>\n",
       "      <td>2.5</td>\n",
       "      <td>5.0</td>\n",
       "      <td>1.9</td>\n",
       "      <td>virginica</td>\n",
       "    </tr>\n",
       "    <tr>\n",
       "      <th>147</th>\n",
       "      <td>6.5</td>\n",
       "      <td>3.0</td>\n",
       "      <td>5.2</td>\n",
       "      <td>2.0</td>\n",
       "      <td>virginica</td>\n",
       "    </tr>\n",
       "    <tr>\n",
       "      <th>148</th>\n",
       "      <td>6.2</td>\n",
       "      <td>3.4</td>\n",
       "      <td>5.4</td>\n",
       "      <td>2.3</td>\n",
       "      <td>virginica</td>\n",
       "    </tr>\n",
       "    <tr>\n",
       "      <th>149</th>\n",
       "      <td>5.9</td>\n",
       "      <td>3.0</td>\n",
       "      <td>5.1</td>\n",
       "      <td>1.8</td>\n",
       "      <td>virginica</td>\n",
       "    </tr>\n",
       "  </tbody>\n",
       "</table>\n",
       "<p>150 rows × 5 columns</p>\n",
       "</div>"
      ],
      "text/plain": [
       "     sepal_length  sepal_width  petal_length  petal_width    species\n",
       "0             5.1          3.5           1.4          0.2     setosa\n",
       "1             4.9          3.0           1.4          0.2     setosa\n",
       "2             4.7          3.2           1.3          0.2     setosa\n",
       "3             4.6          3.1           1.5          0.2     setosa\n",
       "4             5.0          3.6           1.4          0.2     setosa\n",
       "..            ...          ...           ...          ...        ...\n",
       "145           6.7          3.0           5.2          2.3  virginica\n",
       "146           6.3          2.5           5.0          1.9  virginica\n",
       "147           6.5          3.0           5.2          2.0  virginica\n",
       "148           6.2          3.4           5.4          2.3  virginica\n",
       "149           5.9          3.0           5.1          1.8  virginica\n",
       "\n",
       "[150 rows x 5 columns]"
      ]
     },
     "execution_count": 52,
     "metadata": {},
     "output_type": "execute_result"
    }
   ],
   "source": [
    "data2"
   ]
  },
  {
   "cell_type": "code",
   "execution_count": 53,
   "id": "97c020cd",
   "metadata": {},
   "outputs": [
    {
     "data": {
      "text/plain": [
       "0      5.1\n",
       "1      4.9\n",
       "2      4.7\n",
       "3      4.6\n",
       "4      5.0\n",
       "      ... \n",
       "145    6.7\n",
       "146    6.3\n",
       "147    6.5\n",
       "148    6.2\n",
       "149    5.9\n",
       "Name: sepal_length, Length: 150, dtype: float64"
      ]
     },
     "execution_count": 53,
     "metadata": {},
     "output_type": "execute_result"
    }
   ],
   "source": [
    "data2[\"sepal_length\"]"
   ]
  },
  {
   "cell_type": "code",
   "execution_count": 54,
   "id": "3cee23f3",
   "metadata": {},
   "outputs": [
    {
     "data": {
      "text/plain": [
       "<AxesSubplot:xlabel='sepal_length', ylabel='Count'>"
      ]
     },
     "execution_count": 54,
     "metadata": {},
     "output_type": "execute_result"
    },
    {
     "data": {
      "image/png": "[encoded data removed]",
      "text/plain": [
       "<Figure size 432x288 with 1 Axes>"
      ]
     },
     "metadata": {
      "needs_background": "light"
     },
     "output_type": "display_data"
    }
   ],
   "source": [
    "sns.histplot(data2[\"sepal_length\"],kde=True)"
   ]
  },
  {
   "cell_type": "code",
   "execution_count": 55,
   "id": "2659d9bb",
   "metadata": {},
   "outputs": [
    {
     "data": {
      "text/plain": [
       "<AxesSubplot:xlabel='sepal_width', ylabel='Count'>"
      ]
     },
     "execution_count": 55,
     "metadata": {},
     "output_type": "execute_result"
    },
    {
     "data": {
      "image/png": "[encoded data removed]",
      "text/plain": [
       "<Figure size 432x288 with 1 Axes>"
      ]
     },
     "metadata": {
      "needs_background": "light"
     },
     "output_type": "display_data"
    }
   ],
   "source": [
    "sns.histplot(data2[\"sepal_width\"],kde=True)"
   ]
  },
  {
   "cell_type": "code",
   "execution_count": 57,
   "id": "b9dfadea",
   "metadata": {},
   "outputs": [
    {
     "data": {
      "text/plain": [
       "<AxesSubplot:xlabel='petal_length', ylabel='Count'>"
      ]
     },
     "execution_count": 57,
     "metadata": {},
     "output_type": "execute_result"
    },
    {
     "data": {
      "image/png": "[encoded data removed]",
      "text/plain": [
       "<Figure size 432x288 with 1 Axes>"
      ]
     },
     "metadata": {
      "needs_background": "light"
     },
     "output_type": "display_data"
    }
   ],
   "source": [
    "sns.histplot(data2[\"petal_length\"],kde=True)"
   ]
  },
  {
   "cell_type": "code",
   "execution_count": 58,
   "id": "411051b7",
   "metadata": {},
   "outputs": [
    {
     "data": {
      "text/plain": [
       "<AxesSubplot:xlabel='petal_width', ylabel='Count'>"
      ]
     },
     "execution_count": 58,
     "metadata": {},
     "output_type": "execute_result"
    },
    {
     "data": {
      "image/png": "[encoded data removed]",
      "text/plain": [
       "<Figure size 432x288 with 1 Axes>"
      ]
     },
     "metadata": {
      "needs_background": "light"
     },
     "output_type": "display_data"
    }
   ],
   "source": [
    "sns.histplot(data2[\"petal_width\"],kde=True)"
   ]
  },
  {
   "cell_type": "code",
   "execution_count": 64,
   "id": "e3059075",
   "metadata": {},
   "outputs": [],
   "source": [
    "import numpy as np\n",
    "mu=0.5\n",
    "sigma=0.2\n",
    "normal_distributed_data=np.random.normal(0.5,0.2,1000)"
   ]
  },
  {
   "cell_type": "code",
   "execution_count": 60,
   "id": "b92dea27",
   "metadata": {},
   "outputs": [
    {
     "data": {
      "text/plain": [
       "array([ 0.30386391,  0.56622901,  0.42376423,  0.6668514 ,  1.12170444,\n",
       "        0.04162905,  0.7608626 ,  0.36346518,  0.63235968,  0.44597923,\n",
       "        0.57403381,  0.66549828,  0.51480529,  0.50721245,  0.53608283,\n",
       "        0.72932843,  0.68049672,  0.4725241 ,  0.16690792,  0.54915283,\n",
       "        0.49267233,  0.42757865,  0.78351847,  0.29828449,  0.49113273,\n",
       "        0.17387637,  0.50086544,  0.41430868,  0.23174536,  0.12879554,\n",
       "        0.41378068,  0.56882217,  0.24000108,  0.55653161,  0.82855917,\n",
       "        0.45999379,  0.47250766,  0.53069334,  0.6390428 ,  0.23387527,\n",
       "        0.35441875,  0.38412548,  0.32560828,  0.59327572,  0.83751927,\n",
       "        0.73694074,  0.78043602,  0.1320365 ,  0.11687605,  0.59156973,\n",
       "        0.31260014,  0.44307957,  0.61815183,  0.85118335,  0.28415259,\n",
       "       -0.00617692,  0.45879886,  0.79730452,  0.32534413,  0.72214361,\n",
       "        0.64641133,  0.42252049,  0.50048749,  0.25686095,  0.4947556 ,\n",
       "        0.72857523,  0.50522023,  0.67228277,  0.24369331,  0.63630681,\n",
       "        0.6829859 ,  0.69833034,  0.36691208,  0.48697091,  0.15541677,\n",
       "        0.24598336,  0.61761104,  0.58491651,  0.60861677,  0.64438399,\n",
       "        0.73090634,  0.72085022,  0.46840775,  0.55860918,  0.55928273,\n",
       "        0.51686608,  0.5478639 ,  0.3683201 ,  0.41210894,  0.59760846,\n",
       "        0.42730071,  0.42620631,  0.58667723,  0.8391623 ,  0.3305116 ,\n",
       "        0.75474032,  0.5803528 ,  0.42417034,  0.56861117,  0.52836519,\n",
       "        0.74279819,  0.5100994 ,  0.06417402,  0.27763593,  0.54472529,\n",
       "        0.29007237,  0.34675945,  0.50396861,  0.48932493,  0.33621767,\n",
       "        0.46059998,  0.75495029,  0.56225746,  0.52143301,  0.33928502,\n",
       "        0.35008552,  0.6118475 ,  0.97904818,  0.85805631,  0.42581718,\n",
       "        0.39554045,  0.65814787,  0.31294254,  0.42273067,  0.78854478,\n",
       "        0.07377809,  0.60277166,  0.18142123,  0.49683055,  0.64510417,\n",
       "        0.73873261,  0.62279166,  0.80078721,  0.20208415,  0.6475944 ,\n",
       "        0.40539743,  0.70001102,  0.45810798,  0.63546579,  0.54943564,\n",
       "        0.62520501,  0.24030336,  0.65681313,  0.3808735 ,  0.36814986,\n",
       "        0.53092078,  0.63133511,  0.16242859,  0.18766334,  0.39904223,\n",
       "        0.56264219,  0.344341  ,  0.34277862,  0.05969614,  0.44788902,\n",
       "        0.55323057,  0.43339988,  0.57577618,  0.54517927,  0.51488418,\n",
       "        0.51339086,  0.17766984,  0.31068915,  0.5581681 ,  0.34387815,\n",
       "        0.45113567,  0.52042369,  0.38905076,  0.29790551,  0.43466923,\n",
       "        0.68788261,  0.40684805,  0.11349256,  0.39513599,  0.668128  ,\n",
       "        0.53544188,  0.33353737,  0.6289557 ,  0.71960807,  0.60649692,\n",
       "        0.5750309 ,  0.50064798,  0.63845919,  0.34946578,  0.29358014,\n",
       "        0.81396738,  0.41647558,  0.32383252,  0.85134644,  0.23893895,\n",
       "        0.42416472,  0.51297415,  0.31526446,  0.62606109,  0.27390975,\n",
       "        0.26677856,  0.4321005 ,  0.36778053,  0.26106108,  0.3474568 ,\n",
       "        0.79503902,  0.48368216,  0.60323561,  0.49322978,  0.56055662,\n",
       "        0.15946892,  0.60161246,  0.09423482,  0.91260833,  0.87167261,\n",
       "        0.23185919,  0.39090357,  0.48310878,  0.2225145 ,  0.8384928 ,\n",
       "        0.39619124,  0.34017449,  0.41894256,  0.37160996,  0.45604152,\n",
       "        0.43180915,  0.57982375,  0.6320084 ,  0.51825197,  0.66489724,\n",
       "        0.74522259,  0.4780752 ,  0.32293159,  0.48914163,  0.3089396 ,\n",
       "        0.41658349,  0.6695936 ,  0.73695832,  0.57394968,  0.5498281 ,\n",
       "        0.56680395,  0.37165354,  0.51194268,  0.57720403,  0.68013728,\n",
       "        0.45436043,  0.54094236,  0.56703262,  0.44015428,  0.70191693,\n",
       "        0.54337139,  0.46526872,  0.27140089,  0.46317101,  0.91230535,\n",
       "        0.17039352,  0.6911467 ,  0.45126758,  0.79141532,  0.68403227,\n",
       "        0.90690198,  0.38190275,  0.5910108 ,  0.68073677,  0.70488025,\n",
       "        0.29552295,  0.2829719 ,  0.73778664,  0.42222142,  0.31299028,\n",
       "        0.30753525,  0.54853457,  0.6049855 ,  0.68595529,  0.46645883,\n",
       "        0.22383192,  0.45205697,  0.35202102,  0.37261108,  0.31774202,\n",
       "        0.65146542,  0.46509607,  0.11583   ,  0.72030895,  0.34452269,\n",
       "        0.36059515,  0.39041131,  0.51667187,  0.30978433,  0.48934657,\n",
       "        0.17045524,  0.63269792,  0.28872706,  0.70706007,  0.64056041,\n",
       "        0.14978291,  0.40065601,  0.17434647,  0.40386815,  0.82645947,\n",
       "        0.61305728,  0.39757751,  0.32032165,  0.59504728,  0.47641312,\n",
       "        0.25692671,  0.69570056,  0.32500355,  0.37766928,  0.51895676,\n",
       "        0.6068755 ,  0.43747801,  0.92338576,  0.28484006,  0.6589242 ,\n",
       "        0.58877129,  0.1586798 ,  0.32588092,  0.47617899,  0.27360245,\n",
       "        0.13211235,  0.7135476 ,  0.58006018,  0.53419919,  0.71718107,\n",
       "        0.48801341,  0.58765036,  0.17982568,  0.40311288,  0.86139063,\n",
       "        0.32597096,  0.55241369,  0.77012268,  0.56422658,  0.66019316,\n",
       "        0.5201341 ,  0.50950908,  0.45807739,  0.41077328,  0.54486333,\n",
       "        0.33110147,  0.74751582,  0.68249018,  0.40673968,  0.36365434,\n",
       "        0.50773667,  0.80688888,  0.35004388,  0.53858685,  0.75084897,\n",
       "        0.49088965,  0.48751286,  0.56182334,  0.18650163,  0.43864112,\n",
       "        0.50420344,  0.4669247 ,  0.30900723,  0.35009659,  0.32570718,\n",
       "        0.67786099,  0.51420274,  0.45401882,  0.4930826 ,  0.53771967,\n",
       "        0.30609281,  0.49837863,  0.57458621,  0.30881636,  0.26331769,\n",
       "        1.01841117,  0.64115376,  0.74787934,  0.64644669,  0.25926799,\n",
       "        0.57351892,  0.71769211,  0.5239901 ,  0.58360498,  0.77516166,\n",
       "        0.48581916,  0.26617211,  0.88452682,  0.59413547,  0.38355637,\n",
       "        0.62260334,  0.29341379,  0.07863718,  0.76510341,  0.63757697,\n",
       "        0.72198693,  0.42007832,  0.28147775,  0.5249074 ,  0.44777431,\n",
       "        0.32270217,  0.31766522,  0.78548583,  0.84698628,  0.50632399,\n",
       "        0.46496356,  0.40221058,  0.57742189,  0.11662964,  0.5710327 ,\n",
       "        0.17536281,  0.79913152,  0.55769335,  0.73983078,  0.33166007,\n",
       "        0.61897277,  0.75773309,  0.4934112 ,  0.56857816,  0.27227994,\n",
       "        0.70952058,  0.29413703,  0.38228961,  0.44271492,  0.52213396,\n",
       "        0.9173276 ,  0.64919938,  0.40700286,  0.19985474,  0.35799289,\n",
       "        0.50639652,  0.53831799,  0.49277796,  0.23825215,  0.71733225,\n",
       "        0.30667871,  0.56831869,  0.64690621,  0.40499871,  0.3408971 ,\n",
       "        0.66739673,  0.36994285,  0.46928521,  0.73452736,  0.74923203,\n",
       "        0.58741479,  0.66791794,  0.58684397,  0.32395534,  0.20123991,\n",
       "        0.33859698,  0.34661235,  0.50359503,  0.54042004,  0.74781584,\n",
       "        0.25449664,  0.58134776,  0.13258466,  0.6128392 ,  0.44803148,\n",
       "        0.46706274,  0.69946058, -0.03297042,  0.31348088,  0.58718585,\n",
       "        0.86688297,  0.49419023,  0.26547384,  0.41261257,  0.40540194,\n",
       "        0.82610485,  0.75579134,  0.37189536,  0.38813116,  0.50332315,\n",
       "        0.43464782,  0.55655016,  0.28671369,  0.84336933,  0.33791707,\n",
       "        0.32648266,  0.34787745,  0.73250461,  0.72727537,  0.36092894,\n",
       "        0.28604952,  0.31146945,  0.12287645,  0.39762763,  0.65247691,\n",
       "        0.35070009,  0.35027853,  0.73667077,  0.78105429,  0.61577494,\n",
       "        0.47130015,  0.22723753,  0.38155046,  0.53518752,  0.40021206,\n",
       "        0.68298706,  0.62380942,  0.58586692,  0.55512713,  0.47285864,\n",
       "        0.56500812,  0.34867207,  0.66842292,  0.6646054 ,  0.46755522,\n",
       "        0.20316337,  0.97396822,  0.35974893,  0.23400802,  0.5970915 ,\n",
       "        0.72217642,  0.4018437 ,  0.61270891,  0.41749798,  0.40968035,\n",
       "        0.30625912,  0.64178351,  0.24237133,  0.4076333 ,  0.13666395,\n",
       "        0.6025431 ,  0.40580724,  0.57527639,  0.46612876,  0.34572165,\n",
       "        0.33880576,  0.46221946,  0.38239936,  0.70203954,  0.20899431,\n",
       "        0.87647953,  0.19774961,  0.46179192,  0.39898438,  0.69281482,\n",
       "        0.7303164 , -0.04824199,  0.38756293,  0.43152275,  0.21631525,\n",
       "        0.74319646,  0.56442257,  0.46799061,  0.33126833,  0.9322162 ,\n",
       "        0.69855598,  0.21927054,  0.65118543,  0.25241576,  0.32623982,\n",
       "        0.38070664,  0.45977596,  0.4380439 ,  0.73836159,  0.34723018,\n",
       "        0.223042  ,  0.76040321,  0.61764267,  0.36078111,  0.54980567,\n",
       "        0.73220033,  0.33946404,  0.29936978,  0.43177376,  0.55346545,\n",
       "        0.42788152,  0.45954758,  0.35172052,  0.81273335,  0.34580517,\n",
       "        0.50901167,  0.40047587,  0.59318431,  0.06851243,  0.51184724,\n",
       "        0.54878149,  0.6391138 ,  0.47275492,  0.2624487 ,  0.75227147,\n",
       "        0.74618659,  0.48869343,  0.7819574 ,  0.26734685,  0.59852036,\n",
       "        0.24261705,  0.98288987,  0.36592626,  0.4163077 ,  0.5388524 ,\n",
       "        0.51394361,  0.03240369,  0.67472451,  0.41717108,  0.25125788,\n",
       "        0.5095451 ,  0.27588379,  0.86568652,  0.41836805,  0.20510226,\n",
       "        0.62432696,  0.39171747,  0.55814079,  0.90970156,  0.44423373,\n",
       "        0.70076519,  0.70299306,  0.60924986,  0.68582981,  0.45849347,\n",
       "        0.38032959,  0.73765198,  0.98878526,  0.95369524,  0.48980106,\n",
       "        0.61750152,  0.45406838,  0.28943351,  0.63127815,  0.28159992,\n",
       "        0.63334442,  0.50422709,  0.35390528,  0.79936879,  0.55919113,\n",
       "        0.61153875,  0.7178006 ,  0.37322784,  0.7283432 ,  0.15993949,\n",
       "        0.56202995,  0.44432903,  0.70347221,  0.6765429 , -0.00158748,\n",
       "        0.45327828,  0.41019231,  0.36715607,  0.78056648,  0.35832724,\n",
       "       -0.01565543,  0.60253442,  0.66302494,  0.21940663,  0.46590439,\n",
       "        0.57843737,  0.66372288,  0.40715881,  0.47424235,  0.23182112,\n",
       "        0.55608078,  0.55200114,  0.36835768,  0.46214619,  0.58391585,\n",
       "        0.37207097,  0.64633337,  0.394626  ,  0.44065071,  0.3307065 ,\n",
       "        0.49560246,  0.92957932,  0.24847881,  0.21309486,  0.84036522,\n",
       "        0.42029074,  0.41941663,  0.12278836,  0.74351595,  0.10941553,\n",
       "        0.29068057,  0.45598665,  0.46484494,  0.06814151,  0.44442821,\n",
       "        0.64925293,  0.81972072,  0.45099327,  0.20185872,  0.63231178,\n",
       "        0.36559791,  0.47902923,  0.39179069,  0.65411904,  0.28949322,\n",
       "        0.43616486,  0.8025357 ,  0.36754352,  0.34846366,  0.7041445 ,\n",
       "        0.53308385,  0.52649876,  0.32919124,  0.34513833,  0.34237191,\n",
       "        0.64172543,  1.04166955,  0.8905747 ,  0.50161646,  0.52113755,\n",
       "        0.57579298,  0.28284085,  0.3695801 ,  0.394009  ,  0.37033862,\n",
       "        0.47355075,  0.73033391,  0.61679346,  0.34921224,  0.55003982,\n",
       "        0.70427903,  0.34066664,  0.41170755,  0.50575672,  0.68485517,\n",
       "        0.39160476,  0.6064267 ,  0.51578583,  0.77951541,  0.73639218,\n",
       "        0.5655987 ,  0.5902043 ,  0.42129941,  0.28100572,  0.27682899,\n",
       "        0.38480745,  0.48727751,  0.39534696,  0.32297015,  0.7969367 ,\n",
       "        0.52305184,  0.60082499,  0.23920939,  0.47664077,  0.39918953,\n",
       "        0.34778755,  0.51710853,  0.18437242,  0.59811803,  0.42585403,\n",
       "        0.53721183,  0.67084563,  0.60952356,  0.4197064 ,  0.6118653 ,\n",
       "        0.69640401,  0.2490397 ,  0.76186848,  0.38726746,  0.6262988 ,\n",
       "        0.59119334,  0.55491275,  0.78431651,  0.57936719,  0.88209331,\n",
       "        0.55233082,  0.51076146,  0.33012697,  0.72723502,  0.52270905,\n",
       "        0.25347025,  0.52831984,  0.72917275,  0.88291688,  0.55085468,\n",
       "        0.86158474,  0.16218844,  0.67007398,  0.50156893,  0.70529752,\n",
       "        0.9219216 ,  0.77548123, -0.00361096,  0.06991091,  0.78785722,\n",
       "        0.32606435,  0.71292295,  0.21122252,  0.87264612,  0.74143319,\n",
       "        0.50410939,  0.25465371,  0.05049943,  0.18345082,  0.70570706,\n",
       "        0.35520776,  0.18441901,  0.50189013,  0.66821861,  0.57015017,\n",
       "        0.71948793,  0.15984208,  0.70546931,  0.27231745,  0.62977736,\n",
       "        0.50882558,  0.57095157,  0.28742325,  0.5022968 ,  0.48348546,\n",
       "        0.48512901,  0.90998744,  0.54888519,  0.65250986,  0.55651118,\n",
       "        0.34936672,  0.71883827,  0.63513006,  0.58141628,  0.05869062,\n",
       "        0.61595804,  0.51107298,  0.674191  ,  0.45963012,  0.57493034,\n",
       "        0.75517303,  0.6232222 ,  0.39734772,  0.3172785 ,  0.55794531,\n",
       "        0.24056446,  0.68937553,  0.34988572,  0.19743407,  0.26230041,\n",
       "        0.36245387,  0.32748164,  0.56829963,  0.39971138,  0.50480698,\n",
       "        0.42776602,  0.77913172,  0.49593584,  0.20485757,  0.59239152,\n",
       "        0.38797383,  0.49074535,  0.65659217,  0.12518383,  0.41928488,\n",
       "        0.19784251,  0.55531982,  0.80759001,  0.33370015,  0.49430016,\n",
       "        0.13058625,  0.59348812,  0.51751473,  0.61499778,  0.61109253,\n",
       "        0.88143289,  0.32598607,  0.5081597 ,  0.42231356,  0.33023559,\n",
       "        0.0802795 ,  0.37840226,  0.53940858,  0.34838104,  0.41787082,\n",
       "        0.5264289 ,  0.54905967,  0.49561558,  0.34399134,  0.65501791,\n",
       "        0.58687371,  0.89686868,  0.14324805,  0.46504689,  0.64006645,\n",
       "        0.44537027,  0.84841196,  0.34551358,  0.46933113,  0.36188574,\n",
       "        0.66127879,  0.62470244,  0.35201092,  0.35533176,  0.68961265,\n",
       "        0.43919908,  0.25431983,  0.359164  ,  0.35617006,  0.54648414,\n",
       "        0.61287125,  0.54411612,  0.82304162,  0.28027588,  0.56925748,\n",
       "        0.86676011,  0.57394739,  0.6198294 ,  0.70030963,  0.32233203,\n",
       "        0.27179066,  0.33478639,  0.40698452,  0.36869781,  0.40329613,\n",
       "        0.50314236,  0.45724771,  0.87502395,  0.06131651,  0.73093357,\n",
       "        0.43029982,  0.3319826 ,  0.87062366,  0.58562299,  0.60662586,\n",
       "        0.57920056,  0.412537  ,  1.15437039,  0.62620296,  0.63181683,\n",
       "        0.85316319,  0.63831016,  0.65452643,  0.40784996,  0.29026185,\n",
       "        0.69075634,  0.77975247,  0.51726785,  0.02506785,  0.38799927,\n",
       "        0.64439546,  0.29023823,  0.74690468,  0.59901501,  0.77918419,\n",
       "        0.43449169,  0.70622943,  0.4066144 ,  0.66466535,  0.62552557,\n",
       "        0.78589587,  0.54166556,  0.40418318,  0.43321532,  0.49608909,\n",
       "        0.7159733 ,  0.66405408,  0.20308912,  0.52659313,  0.3433993 ,\n",
       "        0.62604267,  0.67001163,  0.70770874,  0.4842431 ,  0.8689205 ,\n",
       "        0.46996167,  0.56996569,  0.83854283,  0.03924138,  0.41261069,\n",
       "        0.61968212,  0.58408557,  0.33927163, -0.10001196,  0.8008547 ,\n",
       "        0.50326693,  0.88210111,  0.59236552,  0.39573716,  0.71804131,\n",
       "        0.18500752,  0.43209867,  0.69958726,  0.57588876,  0.67019951,\n",
       "        0.59474858,  0.44821287,  0.26472581,  0.80171853,  0.71449774,\n",
       "        0.35667194,  0.03158986,  0.39656583,  0.08498115,  0.26238381,\n",
       "        0.52932547,  0.43452843,  0.52353342,  0.29682405,  0.58058695,\n",
       "        0.18707777,  0.59554473,  0.60016823, -0.08783998,  0.49461919,\n",
       "        0.70968091,  0.07236652,  0.57620207,  0.85541495,  0.51635172,\n",
       "        0.47510438,  0.51447151,  0.39128582,  0.58947012,  0.64159662,\n",
       "        0.41665952,  0.30473558,  0.48572506,  0.61054377,  0.42323405])"
      ]
     },
     "execution_count": 60,
     "metadata": {},
     "output_type": "execute_result"
    }
   ],
   "source": [
    "normal_distributed_data"
   ]
  },
  {
   "cell_type": "code",
   "execution_count": 62,
   "id": "bc23ac71",
   "metadata": {},
   "outputs": [
    {
     "data": {
      "text/plain": [
       "<AxesSubplot:ylabel='Count'>"
      ]
     },
     "execution_count": 62,
     "metadata": {},
     "output_type": "execute_result"
    },
    {
     "data": {
      "image/png": "[encoded data removed]",
      "text/plain": [
       "<Figure size 432x288 with 1 Axes>"
      ]
     },
     "metadata": {
      "needs_background": "light"
     },
     "output_type": "display_data"
    }
   ],
   "source": [
    "sns.histplot(normal_distributed_data,kde=True)"
   ]
  },
  {
   "cell_type": "code",
   "execution_count": 63,
   "id": "8753777b",
   "metadata": {},
   "outputs": [
    {
     "data": {
      "text/plain": [
       "(1000,)"
      ]
     },
     "execution_count": 63,
     "metadata": {},
     "output_type": "execute_result"
    }
   ],
   "source": [
    "normal_distributed_data.shape"
   ]
  },
  {
   "cell_type": "code",
   "execution_count": 98,
   "id": "c38081ed",
   "metadata": {},
   "outputs": [],
   "source": [
    "mu=5\n",
    "sigms=12\n",
    "lognormal_distributed_data=np.random.lognormal(mu,sigma,1000)\n"
   ]
  },
  {
   "cell_type": "code",
   "execution_count": 99,
   "id": "2f236d66",
   "metadata": {},
   "outputs": [
    {
     "data": {
      "text/plain": [
       "<AxesSubplot:ylabel='Count'>"
      ]
     },
     "execution_count": 99,
     "metadata": {},
     "output_type": "execute_result"
    },
    {
     "data": {
      "image/png": "[encoded data removed]",
      "text/plain": [
       "<Figure size 432x288 with 1 Axes>"
      ]
     },
     "metadata": {
      "needs_background": "light"
     },
     "output_type": "display_data"
    }
   ],
   "source": [
    "sns.histplot(lognormal_distributed_data,kde=True)"
   ]
  },
  {
   "cell_type": "code",
   "execution_count": 100,
   "id": "4323682d",
   "metadata": {},
   "outputs": [
    {
     "data": {
      "text/plain": [
       "<AxesSubplot:ylabel='Count'>"
      ]
     },
     "execution_count": 100,
     "metadata": {},
     "output_type": "execute_result"
    },
    {
     "data": {
      "image/png": "[encoded data removed]",
      "text/plain": [
       "<Figure size 432x288 with 1 Axes>"
      ]
     },
     "metadata": {
      "needs_background": "light"
     },
     "output_type": "display_data"
    }
   ],
   "source": [
    "sns.histplot(np.log(lognormal_distributed_data),kde=True)"
   ]
  },
  {
   "cell_type": "code",
   "execution_count": 107,
   "id": "30d3b152",
   "metadata": {},
   "outputs": [],
   "source": [
    "import matplotlib.pyplot as plt\n",
    "import scipy.stats as stat\n",
    "import pylab\n",
    "def plot_data(sample):\n",
    "    plt.figure(figsize=(10,6))\n",
    "    plt.subplot(1,2,1)\n",
    "    \n",
    "    sns.histplot(sample,kde=True)\n",
    "    plt.subplot(1,2,2)\n",
    "    \n",
    "    stat.probplot(sample,dist=\"norm\",plot=pylab)\n",
    "    plt.show()"
   ]
  },
  {
   "cell_type": "code",
   "execution_count": 108,
   "id": "79dfc68e",
   "metadata": {},
   "outputs": [
    {
     "data": {
      "image/png": "[encoded data removed]",
      "text/plain": [
       "<Figure size 720x432 with 2 Axes>"
      ]
     },
     "metadata": {
      "needs_background": "light"
     },
     "output_type": "display_data"
    }
   ],
   "source": [
    "plot_data(lognormal_distributed_data)"
   ]
  },
  {
   "cell_type": "code",
   "execution_count": 109,
   "id": "f3b48f2e",
   "metadata": {},
   "outputs": [
    {
     "data": {
      "image/png": "[encoded data removed]",
      "text/plain": [
       "<Figure size 720x432 with 2 Axes>"
      ]
     },
     "metadata": {
      "needs_background": "light"
     },
     "output_type": "display_data"
    }
   ],
   "source": [
    "plot_data(np.log(lognormal_distributed_data))"
   ]
  },
  {
   "cell_type": "markdown",
   "id": "7f645715",
   "metadata": {},
   "source": [
    "# probability distribution function\n",
    "probability Mass function(Discrete probability Distribution)\n",
    "- uniform\n",
    "- benouli\n",
    "- binomial distribution\n",
    "- poisson\n",
    "probability Density function(continuous probability Distribution)\n",
    "- uniform\n",
    "normal(SND)\n",
    "- lognormal\n",
    "- power law\n",
    "- pareto"
   ]
  },
  {
   "cell_type": "code",
   "execution_count": 111,
   "id": "2ac1d13b",
   "metadata": {},
   "outputs": [
    {
     "data": {
      "text/plain": [
       "array([5.45946500e-01, 8.32600358e-01, 5.19955195e-01, 3.35554316e-01,\n",
       "       9.70788958e-01, 2.35817649e-01, 3.36884403e-01, 4.94886876e-01,\n",
       "       4.79775981e-01, 5.14110959e-01, 5.64432888e-01, 7.61744353e-02,\n",
       "       7.22427561e-01, 1.52855712e-01, 1.49829983e-01, 7.17190133e-01,\n",
       "       4.86123392e-01, 7.02287079e-01, 1.35693462e-01, 5.21462701e-01,\n",
       "       7.83254482e-01, 4.29537780e-01, 6.54387926e-01, 4.99821294e-03,\n",
       "       9.85355677e-01, 1.37071011e-01, 6.06242432e-01, 6.38448714e-01,\n",
       "       5.62103140e-02, 5.66095780e-01, 4.03726586e-01, 8.85271766e-01,\n",
       "       9.35230594e-02, 3.39479981e-01, 8.83557443e-01, 1.15920438e-01,\n",
       "       7.44487769e-02, 2.33421629e-01, 6.74451957e-01, 6.87788659e-01,\n",
       "       7.76073909e-01, 8.01797687e-01, 9.25143149e-02, 2.91772597e-01,\n",
       "       7.17705460e-01, 1.54326115e-01, 9.02915775e-01, 7.72599435e-01,\n",
       "       2.80752021e-01, 3.14007363e-01, 4.42606829e-01, 3.55441191e-02,\n",
       "       5.54032484e-01, 6.38221000e-01, 5.43072979e-01, 7.65152841e-01,\n",
       "       7.66272988e-01, 6.29267226e-01, 4.52598924e-01, 6.94789181e-03,\n",
       "       2.34593957e-01, 2.25148426e-01, 9.54467750e-01, 6.58937931e-01,\n",
       "       2.54397938e-01, 5.24774286e-01, 9.32814493e-01, 3.30775500e-01,\n",
       "       8.40591713e-01, 8.86640940e-01, 8.86597504e-01, 8.35596673e-01,\n",
       "       5.91475486e-01, 5.98362391e-01, 6.70685723e-01, 4.80678909e-01,\n",
       "       3.58081630e-01, 7.51148517e-01, 6.10563738e-01, 9.48519116e-01,\n",
       "       2.69139754e-01, 3.08534618e-01, 9.99387322e-01, 5.67620532e-01,\n",
       "       8.73089133e-01, 6.48085389e-01, 8.19586195e-01, 4.20780680e-01,\n",
       "       1.96938638e-01, 4.00361639e-01, 1.71094857e-01, 6.31210613e-01,\n",
       "       5.55549624e-01, 8.62505934e-02, 7.29960350e-01, 5.88957175e-01,\n",
       "       4.35731135e-01, 4.49582612e-01, 2.73921633e-01, 8.09675278e-01,\n",
       "       5.12682524e-02, 5.62985476e-01, 1.47935082e-01, 2.74189216e-02,\n",
       "       2.21372405e-01, 6.99600417e-01, 4.79941935e-02, 7.23663039e-01,\n",
       "       7.52570825e-01, 8.44083966e-04, 5.88891777e-01, 6.20082836e-01,\n",
       "       9.02388149e-01, 5.06506729e-01, 9.93314331e-01, 7.80424543e-01,\n",
       "       3.96855472e-01, 4.50715909e-01, 5.16269783e-01, 8.39407385e-01,\n",
       "       6.80231254e-01, 9.40638588e-01, 7.64127000e-01, 7.70237494e-01,\n",
       "       8.40883084e-01, 5.84758843e-01, 8.18449300e-02, 5.67860988e-01,\n",
       "       8.30030567e-01, 6.47743739e-01, 1.80299926e-02, 5.28001513e-01,\n",
       "       3.88564184e-01, 9.03233682e-01, 8.81892952e-01, 4.50866004e-01,\n",
       "       9.85798586e-02, 6.98428467e-01, 2.51604688e-01, 6.06189710e-02,\n",
       "       2.65815169e-01, 4.88021942e-01, 7.69857767e-01, 4.52948769e-01,\n",
       "       6.78374636e-01, 2.52512670e-01, 4.78624245e-01, 8.10752646e-01,\n",
       "       9.71830455e-01, 6.64266848e-01, 2.77763400e-01, 3.83502806e-01,\n",
       "       1.83743994e-01, 3.62782812e-01, 3.12543408e-01, 9.57747510e-01,\n",
       "       4.69360193e-01, 9.05551860e-01, 3.65138397e-01, 3.64609048e-01,\n",
       "       8.68058933e-01, 6.89258911e-01, 3.03908735e-01, 2.69808619e-01,\n",
       "       7.16949115e-01, 9.78626703e-01, 2.31243346e-01, 4.20860879e-01,\n",
       "       8.06717149e-02, 6.16598943e-01, 3.40640775e-01, 3.40229534e-02,\n",
       "       4.50997109e-01, 1.11819281e-02, 4.86720509e-01, 5.94290493e-01,\n",
       "       7.05681057e-01, 1.66208497e-01, 5.92477344e-01, 5.87410493e-01,\n",
       "       5.48529456e-01, 2.58518263e-01, 8.70820356e-01, 3.44709878e-01,\n",
       "       1.23599471e-01, 4.72058677e-01, 3.80782604e-01, 3.56887535e-01,\n",
       "       3.01810284e-02, 7.97837093e-01, 1.12631320e-01, 4.52080104e-02,\n",
       "       4.89402196e-01, 7.83097030e-01, 5.63637352e-01, 1.25566669e-01,\n",
       "       9.77672375e-01, 4.16159689e-01, 7.45891730e-02, 1.85984163e-01,\n",
       "       6.88617931e-01, 4.85875430e-01, 2.23649836e-01, 8.86256596e-01,\n",
       "       5.45927633e-01, 6.26898634e-01, 8.31898213e-01, 1.74542976e-01,\n",
       "       4.16454915e-01, 9.26184692e-02, 8.08719620e-01, 7.21153661e-01,\n",
       "       6.30201777e-03, 3.89412341e-01, 9.71394170e-01, 1.11422494e-01,\n",
       "       6.71062897e-01, 9.90381444e-01, 1.38097124e-01, 7.73823403e-01,\n",
       "       1.88763347e-01, 9.95446600e-01, 3.33645112e-01, 7.24927997e-01,\n",
       "       4.33385081e-01, 5.20163620e-01, 7.82646902e-01, 7.90704188e-01,\n",
       "       8.15202633e-01, 5.29074050e-01, 4.57456840e-01, 3.67578376e-01,\n",
       "       8.97675017e-01, 6.42865613e-01, 7.31128476e-01, 7.76580526e-01,\n",
       "       6.96861782e-02, 9.55546884e-01, 4.63485351e-01, 7.41335850e-01,\n",
       "       3.71746006e-01, 1.04823961e-01, 5.54399354e-01, 2.71112051e-01,\n",
       "       4.66748724e-01, 6.68628380e-01, 5.36991338e-01, 8.76650989e-01,\n",
       "       6.21233498e-01, 9.27628075e-01, 6.82101274e-01, 6.48720792e-01,\n",
       "       2.79891245e-01, 8.28014108e-01, 6.65255713e-01, 2.17940352e-01,\n",
       "       4.08847813e-01, 5.17716633e-01, 3.01647574e-01, 6.19927689e-01,\n",
       "       2.68677796e-03, 6.08360098e-01, 1.17035517e-01, 1.36717262e-01,\n",
       "       3.68833163e-01, 8.72450434e-01, 4.22876071e-01, 8.00791099e-01,\n",
       "       1.71549855e-01, 1.74719057e-01, 7.93134804e-01, 9.19332764e-01,\n",
       "       2.19396805e-01, 9.91562827e-01, 4.98938905e-01, 7.30660104e-01,\n",
       "       5.86623699e-01, 3.53347288e-01, 6.79702832e-01, 9.08874000e-01,\n",
       "       9.81367347e-01, 8.11740675e-01, 8.67009650e-01, 4.74501685e-01,\n",
       "       9.92467588e-01, 3.61992367e-01, 4.89084229e-01, 4.55143365e-01,\n",
       "       9.48790117e-01, 9.35314455e-01, 8.06622252e-01, 8.38101667e-02,\n",
       "       1.83702951e-01, 9.87050678e-01, 8.11939880e-01, 9.12132743e-01,\n",
       "       9.84735107e-01, 1.21207274e-01, 9.44367956e-01, 2.53809271e-01,\n",
       "       4.53712796e-01, 6.40698539e-01, 2.10669249e-01, 3.18472463e-01,\n",
       "       6.84255051e-01, 6.33395855e-01, 1.68450318e-01, 6.95069654e-01,\n",
       "       2.80885245e-01, 7.91215074e-01, 3.22126012e-01, 1.23500399e-01,\n",
       "       2.71409717e-01, 3.42213929e-01, 8.18957395e-01, 8.45272113e-01,\n",
       "       1.34075808e-01, 9.44566167e-01, 5.28586906e-01, 9.75341503e-01,\n",
       "       8.43528107e-01, 4.01702495e-01, 8.03325864e-01, 9.20569503e-01,\n",
       "       1.94118986e-01, 7.64334195e-01, 1.40095447e-01, 1.83423734e-02,\n",
       "       8.76617795e-01, 9.79226480e-01, 1.41816440e-02, 2.07963183e-01,\n",
       "       2.04810119e-01, 8.77018832e-01, 4.35952670e-01, 8.96506720e-01,\n",
       "       9.46851657e-01, 9.81830420e-01, 4.03765431e-01, 7.02661752e-01,\n",
       "       8.22884811e-01, 1.36561349e-01, 6.88644386e-01, 9.60227894e-01,\n",
       "       1.97327115e-01, 9.53891975e-02, 2.61083630e-01, 9.14445141e-01,\n",
       "       5.28246816e-01, 8.05865027e-01, 3.63824363e-01, 4.72730223e-01,\n",
       "       1.63208276e-01, 8.09426222e-01, 3.44913603e-01, 4.53028872e-01,\n",
       "       5.50748278e-01, 7.34392535e-01, 2.35046863e-01, 2.96698679e-01,\n",
       "       4.35341157e-02, 1.49580760e-01, 4.52168656e-01, 4.76599715e-01,\n",
       "       1.03895833e-01, 5.54197753e-02, 6.39644034e-01, 6.81609403e-01,\n",
       "       4.90185949e-01, 9.23693444e-01, 9.52297864e-01, 6.11424288e-01,\n",
       "       8.47582248e-01, 1.48843524e-01, 5.84695212e-02, 8.65144501e-01,\n",
       "       1.09281505e-02, 2.87390693e-01, 7.70350450e-01, 4.79901628e-01,\n",
       "       5.37564186e-01, 1.49954749e-02, 3.60279370e-01, 5.15646568e-01,\n",
       "       9.71177476e-01, 1.25430168e-01, 1.89257523e-01, 4.74124250e-01,\n",
       "       2.41464931e-02, 7.42578530e-01, 7.86527599e-01, 3.99156515e-01,\n",
       "       5.63433192e-01, 8.07125385e-01, 2.69990497e-01, 5.86581849e-02,\n",
       "       2.52084742e-01, 5.59783714e-01, 4.28149035e-01, 8.53951789e-02,\n",
       "       3.31228622e-01, 9.94699155e-01, 7.33743773e-01, 2.99437428e-01,\n",
       "       3.53763709e-01, 1.24603469e-01, 2.18500704e-01, 5.47605683e-01,\n",
       "       2.01714985e-01, 7.59794180e-01, 2.36759993e-01, 7.09719198e-02,\n",
       "       2.54782715e-01, 9.12333839e-02, 7.49634293e-01, 6.33175513e-01,\n",
       "       9.91796441e-01, 8.85119366e-01, 8.87488517e-01, 6.32790258e-01,\n",
       "       9.59674028e-01, 7.20355277e-01, 5.03205322e-01, 6.52117025e-01,\n",
       "       6.43861753e-01, 3.61858130e-02, 3.99089155e-01, 1.98633415e-01,\n",
       "       4.04584874e-01, 3.05877818e-01, 9.31697669e-01, 4.82194811e-01,\n",
       "       3.19008171e-01, 7.80667923e-02, 9.47162217e-01, 5.45455753e-01,\n",
       "       6.65131431e-01, 7.51465472e-01, 9.57630556e-01, 3.48546731e-01,\n",
       "       5.06570212e-02, 5.23740119e-02, 4.36823503e-01, 1.98484955e-02,\n",
       "       7.40111937e-01, 2.45497776e-01, 3.61315309e-02, 5.54486907e-01,\n",
       "       5.29443446e-01, 9.10252634e-02, 4.92609840e-01, 7.05204156e-01,\n",
       "       3.74637403e-03, 9.17510864e-01, 9.42720258e-01, 8.71102051e-01,\n",
       "       2.15509202e-01, 6.38289512e-01, 3.47903608e-01, 4.60993020e-01,\n",
       "       8.49479353e-01, 8.66420490e-01, 2.21977192e-02, 3.20603847e-01,\n",
       "       6.22053543e-01, 2.44481615e-01, 6.37347147e-01, 5.06849525e-02,\n",
       "       6.89322157e-01, 9.74700476e-02, 4.92431264e-01, 4.24769533e-02,\n",
       "       1.48465289e-01, 5.12975320e-01, 7.56639799e-01, 5.76295109e-01,\n",
       "       5.22410473e-01, 6.88666403e-01, 4.37758480e-01, 3.36324027e-01,\n",
       "       5.63480450e-01, 9.78452929e-01, 4.90232448e-01, 2.11447090e-01,\n",
       "       2.56361447e-01, 6.05031222e-03, 9.80096847e-01, 1.09270363e-03,\n",
       "       6.88456150e-01, 5.29788012e-01, 8.00900960e-01, 2.52111014e-01,\n",
       "       2.73427520e-02, 6.38058142e-02, 6.33115737e-01, 6.67303081e-01,\n",
       "       5.46896914e-01, 6.67960854e-01, 4.66832919e-01, 3.03161648e-01])"
      ]
     },
     "execution_count": 111,
     "metadata": {},
     "output_type": "execute_result"
    }
   ],
   "source": [
    "from numpy import random\n",
    "random.uniform(size=500)"
   ]
  },
  {
   "cell_type": "code",
   "execution_count": 112,
   "id": "50e0a093",
   "metadata": {},
   "outputs": [
    {
     "name": "stderr",
     "output_type": "stream",
     "text": [
      "C:\\Users\\khans\\anaconda3\\lib\\site-packages\\seaborn\\distributions.py:2619: FutureWarning: `distplot` is a deprecated function and will be removed in a future version. Please adapt your code to use either `displot` (a figure-level function with similar flexibility) or `kdeplot` (an axes-level function for kernel density plots).\n",
      "  warnings.warn(msg, FutureWarning)\n"
     ]
    },
    {
     "data": {
      "text/plain": [
       "<AxesSubplot:ylabel='Density'>"
      ]
     },
     "execution_count": 112,
     "metadata": {},
     "output_type": "execute_result"
    },
    {
     "data": {
      "image/png": "[encoded data removed]",
      "text/plain": [
       "<Figure size 432x288 with 1 Axes>"
      ]
     },
     "metadata": {
      "needs_background": "light"
     },
     "output_type": "display_data"
    }
   ],
   "source": [
    "sns.distplot(random.uniform(size=500),hist=False)"
   ]
  },
  {
   "cell_type": "code",
   "execution_count": 114,
   "id": "a3684dcf",
   "metadata": {},
   "outputs": [
    {
     "data": {
      "text/plain": [
       "array([3, 5, 1, 4, 4, 5, 5, 4, 7, 7, 5, 3, 1, 3, 2, 7, 7, 1, 4, 7, 7, 4,\n",
       "       3, 6, 1, 3, 6, 2, 5, 4, 5, 6, 2, 5, 3, 1, 4, 3, 3, 7, 7, 4, 3, 4,\n",
       "       5, 4, 2, 1, 3, 3, 6, 1, 2, 3, 3, 4, 6, 2, 7, 1, 6, 7, 2, 2, 2, 5,\n",
       "       6, 3, 1, 2, 6, 3, 5, 6, 1, 3, 6, 1, 1, 6, 5, 1, 1, 5, 1, 4, 2, 7,\n",
       "       4, 4, 7, 5, 4, 2, 6, 5, 5, 2, 4, 3, 5, 4, 6, 5, 1, 7, 6, 5, 5, 2,\n",
       "       3, 5, 3, 7, 2, 4, 5, 7, 7, 1, 1, 6, 5, 6, 6, 3, 4, 1, 2, 2, 7, 6,\n",
       "       6, 4, 7, 1, 1, 1, 7, 2, 4, 2, 2, 7, 5, 2, 4, 1, 7, 4, 5, 7, 2, 2,\n",
       "       5, 4, 2, 2, 7, 6, 1, 6, 6, 2, 4, 3, 6, 5, 3, 7, 7, 1, 5, 4, 5, 4,\n",
       "       4, 1, 3, 2, 7, 1, 1, 7, 4, 4, 4, 2, 7, 6, 6, 1, 1, 1, 5, 3, 3, 4,\n",
       "       5, 4, 4, 2, 2, 5, 5, 5, 5, 6, 4, 5, 3, 3, 5, 4, 7, 7, 3, 1, 6, 7,\n",
       "       7, 7, 3, 4, 1, 1, 6, 3, 5, 4, 3, 1, 1, 4, 1, 7, 3, 5, 5, 6, 7, 7,\n",
       "       6, 2, 6, 5, 1, 6, 3, 5, 2, 4, 7, 3, 3, 2, 2, 5, 4, 3, 5, 5, 7, 7,\n",
       "       5, 5, 6, 6, 5, 6, 4, 2, 5, 7, 5, 2, 7, 3, 2, 5, 5, 4, 2, 1, 3, 2,\n",
       "       4, 7, 4, 4, 7, 4, 2, 6, 1, 2, 2, 7, 4, 4, 5, 2, 4, 6, 5, 5, 1, 1,\n",
       "       2, 5, 3, 3, 6, 3, 5, 6, 7, 1, 1, 5, 5, 6, 3, 3, 7, 3, 7, 6, 4, 1,\n",
       "       5, 4, 1, 5, 7, 6, 7, 4, 6, 2, 4, 1, 5, 7, 6, 1, 2, 1, 4, 7, 7, 6,\n",
       "       2, 7, 5, 1, 2, 2, 3, 4, 7, 5, 7, 6, 2, 1, 6, 2, 2, 3, 4, 6, 5, 4,\n",
       "       5, 3, 5, 6, 7, 2, 2, 1, 5, 1, 6, 3, 4, 2, 1, 7, 6, 4, 4, 2, 5, 1,\n",
       "       1, 5, 1, 3, 6, 1, 2, 7, 6, 2, 2, 3, 3, 5, 6, 4, 6, 2, 4, 2, 6, 6,\n",
       "       2, 5, 7, 2, 3, 2, 4, 3, 3, 4, 5, 4, 6, 3, 6, 2, 1, 6, 7, 7, 3, 1,\n",
       "       7, 2, 2, 3, 7, 5, 3, 1, 7, 7, 6, 3, 3, 1, 7, 4, 6, 7, 2, 4, 7, 2,\n",
       "       1, 7, 5, 7, 2, 6, 5, 7, 6, 3, 4, 5, 6, 5, 2, 5, 6, 3, 3, 1, 5, 7,\n",
       "       6, 4, 1, 6, 1, 5, 4, 3, 1, 1, 1, 2, 3, 6, 3, 1, 5, 6, 2, 2, 3, 5,\n",
       "       2, 7, 6, 3, 5, 5, 4, 4, 4, 1, 4, 3, 2, 6, 1, 1, 7, 4, 2, 4, 3, 2,\n",
       "       6, 4, 2, 1, 1, 4, 6, 7, 2, 4, 7, 3, 5, 4, 1, 1, 6, 5, 3, 2, 6, 7,\n",
       "       2, 6, 4, 2, 5, 7, 6, 6, 6, 5, 2, 3, 7, 4, 7, 3, 3, 6, 1, 2, 3, 7,\n",
       "       1, 5, 4, 5, 4, 3, 4, 5, 6, 3, 2, 5, 4, 3, 7, 4, 2, 5, 2, 7, 6, 6,\n",
       "       1, 7, 4, 5, 7, 6, 7, 3, 1, 2, 7, 5, 1, 6, 5, 4, 5, 2, 6, 1, 4, 1,\n",
       "       6, 5, 5, 6, 5, 3, 3, 5, 4, 4, 2, 2, 1, 5, 6, 1, 4, 4, 5, 1, 1, 3,\n",
       "       2, 1, 7, 1, 1, 7, 5, 6, 4, 7, 3, 2, 6, 2, 4, 4, 1, 2, 5, 5, 2, 7,\n",
       "       1, 3, 3, 6, 6, 7, 7, 5, 2, 5, 5, 5, 7, 3, 2, 4, 5, 5, 1, 5, 5, 3,\n",
       "       1, 7, 5, 3, 4, 6, 4, 5, 3, 4, 2, 3, 7, 2, 7, 2, 1, 1, 4, 6, 1, 2,\n",
       "       5, 3, 2, 6, 1, 5, 2, 7, 1, 3, 2, 3, 6, 2, 4, 4, 3, 5, 1, 7, 3, 6,\n",
       "       6, 6, 3, 1, 5, 2, 3, 6, 3, 7, 3, 7, 6, 3, 4, 7, 3, 4, 4, 2, 5, 5,\n",
       "       4, 7, 2, 7, 6, 5, 6, 4, 3, 7, 6, 5, 4, 2, 3, 3, 2, 3, 2, 4, 2, 6,\n",
       "       1, 1, 5, 3, 1, 3, 7, 4, 3, 1, 7, 3, 4, 3, 5, 3, 6, 3, 3, 1, 7, 3,\n",
       "       5, 2, 4, 5, 3, 7, 7, 1])"
      ]
     },
     "execution_count": 114,
     "metadata": {},
     "output_type": "execute_result"
    }
   ],
   "source": [
    "np.random.randint(1,8,size=800)"
   ]
  },
  {
   "cell_type": "code",
   "execution_count": 115,
   "id": "76523dca",
   "metadata": {},
   "outputs": [
    {
     "data": {
      "text/plain": [
       "<AxesSubplot:ylabel='Count'>"
      ]
     },
     "execution_count": 115,
     "metadata": {},
     "output_type": "execute_result"
    },
    {
     "data": {
      "image/png": "[encoded data removed]",
      "text/plain": [
       "<Figure size 432x288 with 1 Axes>"
      ]
     },
     "metadata": {
      "needs_background": "light"
     },
     "output_type": "display_data"
    }
   ],
   "source": [
    "sns.histplot(np.random.randint(1,8,size=800))"
   ]
  },
  {
   "cell_type": "code",
   "execution_count": 119,
   "id": "022429d7",
   "metadata": {},
   "outputs": [
    {
     "data": {
      "text/plain": [
       "<AxesSubplot:ylabel='Count'>"
      ]
     },
     "execution_count": 119,
     "metadata": {},
     "output_type": "execute_result"
    },
    {
     "data": {
      "image/png": "[encoded data removed]",
      "text/plain": [
       "<Figure size 432x288 with 1 Axes>"
      ]
     },
     "metadata": {
      "needs_background": "light"
     },
     "output_type": "display_data"
    }
   ],
   "source": [
    "#for bernouli\n",
    "p=0.3\n",
    "sample_size=1000\n",
    "bernouli_data=np.random.choice([0,1],size=sample_size,p=[1-p,p])\n",
    "sns.histplot(bernouli_data,bins=2,kde=False,color=\"blue\")"
   ]
  },
  {
   "cell_type": "code",
   "execution_count": 123,
   "id": "b5da2f9a",
   "metadata": {},
   "outputs": [],
   "source": [
    "#binomial\n",
    "no_of_trials=10\n",
    "probability=0.6\n",
    "data3=np.random.binomial(no_of_trials,probability,1000)"
   ]
  },
  {
   "cell_type": "code",
   "execution_count": 124,
   "id": "8c2713a2",
   "metadata": {},
   "outputs": [
    {
     "name": "stderr",
     "output_type": "stream",
     "text": [
      "C:\\Users\\khans\\anaconda3\\lib\\site-packages\\seaborn\\distributions.py:2619: FutureWarning: `distplot` is a deprecated function and will be removed in a future version. Please adapt your code to use either `displot` (a figure-level function with similar flexibility) or `histplot` (an axes-level function for histograms).\n",
      "  warnings.warn(msg, FutureWarning)\n"
     ]
    },
    {
     "data": {
      "text/plain": [
       "<AxesSubplot:ylabel='Density'>"
      ]
     },
     "execution_count": 124,
     "metadata": {},
     "output_type": "execute_result"
    },
    {
     "data": {
      "image/png": "[encoded data removed]",
      "text/plain": [
       "<Figure size 432x288 with 1 Axes>"
      ]
     },
     "metadata": {
      "needs_background": "light"
     },
     "output_type": "display_data"
    }
   ],
   "source": [
    "sns.distplot(data3)"
   ]
  },
  {
   "cell_type": "code",
   "execution_count": 130,
   "id": "5226f489",
   "metadata": {},
   "outputs": [
    {
     "name": "stderr",
     "output_type": "stream",
     "text": [
      "C:\\Users\\khans\\anaconda3\\lib\\site-packages\\seaborn\\distributions.py:2619: FutureWarning: `distplot` is a deprecated function and will be removed in a future version. Please adapt your code to use either `displot` (a figure-level function with similar flexibility) or `histplot` (an axes-level function for histograms).\n",
      "  warnings.warn(msg, FutureWarning)\n"
     ]
    },
    {
     "data": {
      "image/png": "[encoded data removed]",
      "text/plain": [
       "<Figure size 432x288 with 1 Axes>"
      ]
     },
     "metadata": {
      "needs_background": "light"
     },
     "output_type": "display_data"
    }
   ],
   "source": [
    "#poisson\n",
    "poisson_data=np.random.poisson(lam=5,size=1000)\n",
    "    #plotting a histogram\n",
    "ax=sns.distplot(poisson_data,kde=False,)\n",
    "ax.set(xlabel=\"poisson_distribution\",ylabel=\"frequecy\")\n",
    "plt.show()"
   ]
  },
  {
   "cell_type": "markdown",
   "id": "2cc61497",
   "metadata": {},
   "source": [
    "# central limit theorem\n"
   ]
  },
  {
   "cell_type": "code",
   "execution_count": 139,
   "id": "91d27ab9",
   "metadata": {},
   "outputs": [],
   "source": [
    "population=np.random.randint(10,20,50)"
   ]
  },
  {
   "cell_type": "code",
   "execution_count": 140,
   "id": "61ed7fd7",
   "metadata": {},
   "outputs": [
    {
     "data": {
      "text/plain": [
       "14.32"
      ]
     },
     "execution_count": 140,
     "metadata": {},
     "output_type": "execute_result"
    }
   ],
   "source": [
    "np.mean(population)"
   ]
  },
  {
   "cell_type": "code",
   "execution_count": 141,
   "id": "ce7ba289",
   "metadata": {},
   "outputs": [
    {
     "data": {
      "text/plain": [
       "14.0"
      ]
     },
     "execution_count": 141,
     "metadata": {},
     "output_type": "execute_result"
    }
   ],
   "source": [
    "np.median(population)"
   ]
  },
  {
   "cell_type": "code",
   "execution_count": 148,
   "id": "82bfe304",
   "metadata": {},
   "outputs": [],
   "source": [
    "from statistics import mode\n",
    "mode=mode(population)"
   ]
  },
  {
   "cell_type": "code",
   "execution_count": 149,
   "id": "4bfcccf0",
   "metadata": {},
   "outputs": [],
   "source": [
    "# random sample from the populatio\n",
    "sample=np.random.choice(population,20)"
   ]
  },
  {
   "cell_type": "code",
   "execution_count": 150,
   "id": "9244f425",
   "metadata": {},
   "outputs": [
    {
     "name": "stdout",
     "output_type": "stream",
     "text": [
      "mean of the sample 14.9\n",
      "median of the sample 14.5\n",
      "mode of the sample 14\n"
     ]
    }
   ],
   "source": [
    "print(f\"mean of the sample {np.mean(sample)}\")\n",
    "print(f\"median of the sample {np.median(sample)}\")\n",
    "print(f\"mode of the sample {mode}\")"
   ]
  },
  {
   "cell_type": "code",
   "execution_count": 152,
   "id": "8fa15243",
   "metadata": {},
   "outputs": [],
   "source": [
    "sample1=np.random.choice(population,20)\n",
    "sample2=np.random.choice(population,20)\n",
    "sample3=np.random.choice(population,20)\n",
    "sample4=np.random.choice(population,20)"
   ]
  },
  {
   "cell_type": "code",
   "execution_count": 153,
   "id": "15d0b7ad",
   "metadata": {},
   "outputs": [
    {
     "name": "stdout",
     "output_type": "stream",
     "text": [
      "[18 14 19 10 14 12 10 16 16 13 16 16 12 19 11 10 14 14 14 14]\n",
      "============================================================\n",
      "[14 18 11 14 17 19 14 14 16 16 10 17 19 18 18 16 11 15 14 10]\n",
      "============================================================\n",
      "[12 14 15 10 10 14 17 14 16 10 14 11 18 10 10 14 14 14 17 13]\n",
      "============================================================\n",
      "[19 13 12 16 18 16 12 14 19 14 12 16 12 16 15 13 16 13 17 10]\n",
      "============================================================\n"
     ]
    }
   ],
   "source": [
    "print(sample1)\n",
    "print(60*\"=\")\n",
    "print(sample2)\n",
    "print(60*\"=\")\n",
    "print(sample3)\n",
    "print(60*\"=\")\n",
    "print(sample4)\n",
    "print(60*\"=\")"
   ]
  },
  {
   "cell_type": "code",
   "execution_count": 159,
   "id": "c820b234",
   "metadata": {},
   "outputs": [
    {
     "name": "stdout",
     "output_type": "stream",
     "text": [
      "14.1\n",
      "15.05\n",
      "13.35\n",
      "14.65\n"
     ]
    }
   ],
   "source": [
    "mean_of_the_sample=[]\n",
    "all_samples=[sample1,sample2,sample3,sample4]\n",
    "for sample in all_samples:\n",
    "    print(np.mean(sample))\n",
    "    mean_of_the_sample.append(np.mean(sample))"
   ]
  },
  {
   "cell_type": "code",
   "execution_count": 160,
   "id": "1c82dcdd",
   "metadata": {},
   "outputs": [
    {
     "data": {
      "text/plain": [
       "[14.1, 15.05, 13.35, 14.65]"
      ]
     },
     "execution_count": 160,
     "metadata": {},
     "output_type": "execute_result"
    }
   ],
   "source": [
    "mean_of_the_sample"
   ]
  },
  {
   "cell_type": "code",
   "execution_count": 163,
   "id": "31030fea",
   "metadata": {},
   "outputs": [],
   "source": [
    "population=np.random.binomial(10,0.5,10000)"
   ]
  },
  {
   "cell_type": "code",
   "execution_count": 164,
   "id": "cfbb1e6f",
   "metadata": {},
   "outputs": [
    {
     "data": {
      "text/plain": [
       "array([4, 3, 6, ..., 5, 4, 7])"
      ]
     },
     "execution_count": 164,
     "metadata": {},
     "output_type": "execute_result"
    }
   ],
   "source": [
    "population"
   ]
  },
  {
   "cell_type": "code",
   "execution_count": 165,
   "id": "4ac3ef7a",
   "metadata": {},
   "outputs": [
    {
     "data": {
      "text/plain": [
       "10000"
      ]
     },
     "execution_count": 165,
     "metadata": {},
     "output_type": "execute_result"
    }
   ],
   "source": [
    "len(population)"
   ]
  },
  {
   "cell_type": "code",
   "execution_count": 167,
   "id": "9ff8540e",
   "metadata": {},
   "outputs": [
    {
     "name": "stderr",
     "output_type": "stream",
     "text": [
      "C:\\Users\\khans\\anaconda3\\lib\\site-packages\\seaborn\\distributions.py:2619: FutureWarning: `distplot` is a deprecated function and will be removed in a future version. Please adapt your code to use either `displot` (a figure-level function with similar flexibility) or `histplot` (an axes-level function for histograms).\n",
      "  warnings.warn(msg, FutureWarning)\n"
     ]
    },
    {
     "data": {
      "text/plain": [
       "<AxesSubplot:ylabel='Density'>"
      ]
     },
     "execution_count": 167,
     "metadata": {},
     "output_type": "execute_result"
    },
    {
     "data": {
      "image/png": "[encoded data removed]",
      "text/plain": [
       "<Figure size 432x288 with 1 Axes>"
      ]
     },
     "metadata": {
      "needs_background": "light"
     },
     "output_type": "display_data"
    }
   ],
   "source": [
    "sns.distplot(population)"
   ]
  },
  {
   "cell_type": "code",
   "execution_count": 184,
   "id": "ab5ab06f",
   "metadata": {},
   "outputs": [
    {
     "name": "stdout",
     "output_type": "stream",
     "text": [
      "4500\n"
     ]
    }
   ],
   "source": [
    "size=int(len(population)*0.45)\n",
    "print(size)"
   ]
  },
  {
   "cell_type": "markdown",
   "id": "215741e0",
   "metadata": {},
   "source": [
    "Suppose you have a population with any shape of probability distribution (not necessarily normal), and you draw random samples**(at least 30)** of a fixed size(in our case i took 3000 initially) from this population. As the sample size increases**(it might be anything and take as much as data)**, the distribution of the sample means approaches a normal distribution, regardless of the shape of the original population distribution."
   ]
  },
  {
   "cell_type": "code",
   "execution_count": 185,
   "id": "ce7b3054",
   "metadata": {},
   "outputs": [],
   "source": [
    "sample_mean=[]\n",
    "for i in range(1,31):\n",
    "    sample=np.random.choice(population,size=size)\n",
    "    sample_mean.append(np.mean(sample))"
   ]
  },
  {
   "cell_type": "code",
   "execution_count": 178,
   "id": "c0894f84",
   "metadata": {},
   "outputs": [
    {
     "data": {
      "text/plain": [
       "[4.979666666666667,\n",
       " 5.011333333333333,\n",
       " 4.983,\n",
       " 5.0456666666666665,\n",
       " 4.9863333333333335,\n",
       " 5.050666666666666,\n",
       " 4.976333333333334,\n",
       " 4.961333333333333,\n",
       " 4.971,\n",
       " 4.999666666666666,\n",
       " 4.987666666666667,\n",
       " 4.995333333333333,\n",
       " 5.025333333333333,\n",
       " 4.97,\n",
       " 5.0136666666666665,\n",
       " 4.947333333333333,\n",
       " 4.961,\n",
       " 4.995,\n",
       " 5.043,\n",
       " 4.984333333333334,\n",
       " 5.009333333333333,\n",
       " 4.970666666666666,\n",
       " 5.028333333333333,\n",
       " 4.988,\n",
       " 4.9976666666666665,\n",
       " 4.958,\n",
       " 4.980666666666667,\n",
       " 5.030666666666667,\n",
       " 5.012,\n",
       " 4.995]"
      ]
     },
     "execution_count": 178,
     "metadata": {},
     "output_type": "execute_result"
    }
   ],
   "source": [
    "sample_mean"
   ]
  },
  {
   "cell_type": "code",
   "execution_count": 186,
   "id": "134a8e0a",
   "metadata": {},
   "outputs": [
    {
     "name": "stderr",
     "output_type": "stream",
     "text": [
      "C:\\Users\\khans\\anaconda3\\lib\\site-packages\\seaborn\\distributions.py:2619: FutureWarning: `distplot` is a deprecated function and will be removed in a future version. Please adapt your code to use either `displot` (a figure-level function with similar flexibility) or `histplot` (an axes-level function for histograms).\n",
      "  warnings.warn(msg, FutureWarning)\n"
     ]
    },
    {
     "data": {
      "text/plain": [
       "<AxesSubplot:ylabel='Density'>"
      ]
     },
     "execution_count": 186,
     "metadata": {},
     "output_type": "execute_result"
    },
    {
     "data": {
      "image/png": "[encoded data removed]",
      "text/plain": [
       "<Figure size 432x288 with 1 Axes>"
      ]
     },
     "metadata": {
      "needs_background": "light"
     },
     "output_type": "display_data"
    }
   ],
   "source": [
    "sns.distplot(sample_mean)"
   ]
  },
  {
   "cell_type": "code",
   "execution_count": null,
   "id": "4d772845",
   "metadata": {},
   "outputs": [],
   "source": []
  }
 ],
 "metadata": {
  "kernelspec": {
   "display_name": "Python 3 (ipykernel)",
   "language": "python",
   "name": "python3"
  },
  "language_info": {
   "codemirror_mode": {
    "name": "ipython",
    "version": 3
   },
   "file_extension": ".py",
   "mimetype": "text/x-python",
   "name": "python",
   "nbconvert_exporter": "python",
   "pygments_lexer": "ipython3",
   "version": "3.9.12"
  }
 },
 "nbformat": 4,
 "nbformat_minor": 5
}
